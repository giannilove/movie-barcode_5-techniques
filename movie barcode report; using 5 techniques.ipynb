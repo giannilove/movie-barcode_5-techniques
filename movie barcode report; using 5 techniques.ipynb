{
 "cells": [
  {
   "cell_type": "markdown",
   "metadata": {},
   "source": [
    "# MOVIE BARCODE REPORT; USING 5 TECHNIQUES: 20181204 김지안"
   ]
  },
  {
   "cell_type": "markdown",
   "metadata": {},
   "source": [
    "- 무비 바코드 만들기는 다음과 같은 순서를 따른다.\n",
    "\n",
    "1)모듈 불러오기\n",
    "\n",
    "2)함수 만들기\n",
    "\n",
    "3)동영상 불러오기\n",
    "\n",
    "4)값을 저장할 리스트 만들기, img 범위 설정하기\n",
    "\n",
    "5)바코드 시각화하기\n",
    "\n",
    "6)이미지 저장"
   ]
  },
  {
   "cell_type": "markdown",
   "metadata": {},
   "source": [
    "- 이 때 5가지의 방법을 사용하여 무비 바코드를 만든다면, 2)를 제외한 나머지 1), 3)~6)의 코드는 모두 같다. 따라서 중복되는 내용은 이전 리포트에서 상세하게 다뤘으니 피하고, 2)에 대한 코드를 자세히 언급하고자 한다."
   ]
  },
  {
   "cell_type": "markdown",
   "metadata": {},
   "source": [
    "- 무비 바코드를 만드는 5가지 방법은 다음과 같다.\n",
    "\n",
    "2-1) r,g,b의 전체 평균으로 구하는 방법(이하 total average)\n",
    "\n",
    "2-2) frame에서 하나의 색을 랜덤으로 고르는 방법(이하 random selection)\n",
    "\n",
    "2-3) 랜덤의 평균을 구하는 방법(이하 random average)\n",
    "\n",
    "2-4) frame 내에서 가장 많이 나온 색을 나타내는 방법(이하 majority color)\n",
    "\n",
    "2-5) frame의 중간값의 색을 나타내는 방법(이하 center of frame)\n"
   ]
  },
  {
   "cell_type": "markdown",
   "metadata": {},
   "source": [
    "\n",
    "## 1) 모듈 불러오기"
   ]
  },
  {
   "cell_type": "code",
   "execution_count": null,
   "metadata": {},
   "outputs": [],
   "source": [
    "import numpy as np\n",
    "import importlib\n",
    "import matplotlib.pyplot as plt\n",
    "import cv2\n",
    "import imageio\n",
    "import random"
   ]
  },
  {
   "cell_type": "markdown",
   "metadata": {},
   "source": [
    "\n",
    "\n",
    "\n",
    "## 2) 함수 만들기"
   ]
  },
  {
   "cell_type": "markdown",
   "metadata": {},
   "source": [
    "### 2-1) total average"
   ]
  },
  {
   "cell_type": "code",
   "execution_count": null,
   "metadata": {},
   "outputs": [],
   "source": [
    "def totalColor(frame): # totalColor 함수 생성\n",
    "    height, width, depth = frame.shape\n",
    "    frame_color = [] # 빈 리스트 생성\n",
    "\n",
    "    for a in range(int(width)):\n",
    "        for b in range(int(height)):\n",
    "            color = frame[b,a]\n",
    "            frame_color.append(color) # 리스트에 color 추가\n",
    "    return frame_color\n",
    "\n",
    "def average(alist): # average 함수 생성\n",
    "    red_total = 0\n",
    "    green_total = 0\n",
    "    blue_total = 0\n",
    "\n",
    "    for x in alist:\n",
    "        red = x[0]\n",
    "        green = x[1]\n",
    "        blue = x[2]\n",
    "        \n",
    "        red_total = red_total + red # red 총합 저장\n",
    "        green_total = green_total + green # green 총합 저장\n",
    "        blue_total = blue_total + blue # blue 총합 저장\n",
    "    \n",
    "    red = red_total // len(alist) # 평균값 도출\n",
    "    green = green_total // len(alist) \n",
    "    blue = blue_total // len(alist)\n",
    "    colors = [red, green, blue]\n",
    "\n",
    "    return colors"
   ]
  },
  {
   "cell_type": "markdown",
   "metadata": {},
   "source": [
    "- 우선, totalColor이라는 새 함수를 정의내리자. frame_color라는 빈 리스트를 만든 뒤, width와 height만큼 이미지 안의 모든 좌표를 color에 저장하고 이를 frame_color 리스트에 추가한다.\n",
    "- 그 다음 r,g,b의 평균값을 도출하기 위해 average 함수를 정의내린다. for문을 이용해 red_total, green_total, blue_total에 모든 r, g, b 값의 총합을 저장한다. 이후 alist 만큼 나눠주면, 평균값이 나온다."
   ]
  },
  {
   "cell_type": "markdown",
   "metadata": {},
   "source": [
    "### 2-2) random selection"
   ]
  },
  {
   "cell_type": "code",
   "execution_count": null,
   "metadata": {},
   "outputs": [],
   "source": [
    "def getRandomColor(img): #getRandomColor 함수 생성\n",
    "    height, width, depth = img.shape\n",
    "    rrandom = random.randint(0, int(height)-1)\n",
    "    crandom = random.randint(0, int(width)-1)\n",
    "    color = img[rrandom,crandom]\n",
    "    return color"
   ]
  },
  {
   "cell_type": "markdown",
   "metadata": {},
   "source": [
    "- getRandomColor이라는 새 함수를 정의내린다. random 모듈에는 randint라는 정수 랜덤값을 생성해주는 함수가 있다. 이를 활용해 rrandom은 0부터 height-1까지, crandom은 0부터 width-1까지 랜덤값을 생성하도록 한다. \n",
    "- 이후 color에 이를 저장한다."
   ]
  },
  {
   "cell_type": "markdown",
   "metadata": {},
   "source": [
    "### 2-3) random average"
   ]
  },
  {
   "cell_type": "code",
   "execution_count": null,
   "metadata": {},
   "outputs": [],
   "source": [
    "def getColor(frame):\n",
    "    height, width, depth = frame.shape\n",
    "    sample_num = height * width // 100\n",
    "    frame_color = []\n",
    "    for n in range(sample_num):\n",
    "        y = random.randint(0, int(height)-1)\n",
    "        x = random.randint(0, int(width)-1)\n",
    "\n",
    "        color = frame[y,x]\n",
    "\n",
    "        frame_color.append(color)\n",
    "    return frame_color\n",
    "\n",
    "\n",
    "def average(alist):\n",
    "    red_total = 0 \n",
    "    green_total = 0\n",
    "    blue_total = 0\n",
    "\n",
    "    for x in alist:\n",
    "        red = x[0]\n",
    "        green = x[1]\n",
    "        blue = x[2]\n",
    "        \n",
    "        red_total = red_total + red # red 총합 저장\n",
    "        green_total = green_total + green # green 총합 저장\n",
    "        blue_total = blue_total + blue # blue 총합 저장\n",
    "\n",
    "    red = red_total // len(alist)\n",
    "    green = green_total // len(alist)\n",
    "    blue = blue_total // len(alist)\n",
    "\n",
    "    return [red, green, blue]"
   ]
  },
  {
   "cell_type": "markdown",
   "metadata": {},
   "source": [
    "- random average은 앞서 소개한 2-1) total average 함수와 상당히 유사하다. random average가 total average와 다른 점은 sample_num이라는 변수를 사용한다는 것이다.\n",
    "- 여기에서는 샘플값 추출을 위해 sample_num을 정의한다. 이 sample_num을 가지고 randint()함수를 사용하여 정수 랜덤값을 생성한다.\n",
    "- average 함수는 2-1)과 동일하니 설명을 생략한다."
   ]
  },
  {
   "cell_type": "markdown",
   "metadata": {},
   "source": [
    "### 2-4) mojority color"
   ]
  },
  {
   "cell_type": "code",
   "execution_count": null,
   "metadata": {},
   "outputs": [],
   "source": [
    "def getRepColors(frame):\n",
    "    height, width, depth = frame.shape\n",
    "    colors = np.zeros((256,256,256))\n",
    "\n",
    "    for y in range(height):\n",
    "        for x in range(width):\n",
    "            a_color = frame[y,x]\n",
    "            r = a_color[0]\n",
    "            g = a_color[1]\n",
    "            b = a_color[2]\n",
    "\n",
    "            colors[r,g,b] = colors[r,g,b] + 1\n",
    "            \n",
    "    return colors\n",
    "\n",
    "\n",
    "def mostColor(alist):\n",
    "    biggest = 0\n",
    "    for r in range(256):\n",
    "        for g in range(256):\n",
    "            for b in range(256):\n",
    "                if alist[r,g,b] >= biggest:\n",
    "                    biggest = alist[r,g,b]\n",
    "                    final_r = r\n",
    "                    final_g = g\n",
    "                    final_b = b\n",
    "                    \n",
    "    finalcolor = [final_r,final_g,final_b]\n",
    "\n",
    "    return finalcolor"
   ]
  },
  {
   "cell_type": "markdown",
   "metadata": {},
   "source": [
    "- height, width만큼 frame[y,x]를 a_color에 저장한다. 이 때 a_color의 내부 리스트에는 r,g,b값이 들어간다.\n",
    "- mostColor함수를 새로 정의한다. r,g,b는 0~256까지 있으므로 범위를 256까지 설정한다. for문과 if문을 설정해 biggest에 alist[r,g,b]값이 새롭게 정의되도록 한다. 마지막의 r,g,b는 final_r,final_g,final_b로 각각 finalcolor의 리스트로서 들어가도록 하였다."
   ]
  },
  {
   "cell_type": "markdown",
   "metadata": {},
   "source": [
    "### 2-5) center of frame"
   ]
  },
  {
   "cell_type": "code",
   "execution_count": null,
   "metadata": {},
   "outputs": [],
   "source": [
    "def getRepColor(img):\n",
    "    # rc와 cc는 각각 너비, 길이의 중간값\n",
    "    # img.shape: (height, width, depth), 각각을 인덱싱하면 (0,1,2)\n",
    "    rc = img.shape[0]//2 # shape[0]은 height\n",
    "    cc = img.shape[1]//2 # shape[1]은 width\n",
    "    color = img[rc, cc] # 이미지 안에서 (rc, cc)에 해당하는 좌표\n",
    "    return color"
   ]
  },
  {
   "cell_type": "markdown",
   "metadata": {},
   "source": [
    "- getRepColor이라는 함수를 생성한다.\n",
    "- rc와 cc는 각각 너비, 길이의 중간값이다. color에 이미지 안에서 (rc,cc)에 해당하는 좌표를 리스트화하여 저장한다."
   ]
  },
  {
   "cell_type": "markdown",
   "metadata": {},
   "source": [
    "## 3)동영상 불러오기"
   ]
  },
  {
   "cell_type": "code",
   "execution_count": null,
   "metadata": {},
   "outputs": [],
   "source": [
    "filename = 'C:\\\\Users\\\\user\\\\Desktop\\\\[MV]10cm_pet.mp4' # 동영상 위치\n",
    "cap = cv2.VideoCapture(filename)\n",
    "\n",
    "if cap.isOpened() == False:\n",
    "    print('File open error:', filename) # 오류 있을 시 출력"
   ]
  },
  {
   "cell_type": "markdown",
   "metadata": {},
   "source": [
    "- 바코드화하고자 하는 동영상을 filename이라는 변수에 저장한다. 그리고 filename을 cv2모듈을 이용해 프레임단위로 읽는(캡쳐하는) 변수 cap을 설정한다.\n",
    "- 만약 cap이 정상적으로 작동되지 않을 경우, 'File open error'을 출력해주는 if문도 만든다."
   ]
  },
  {
   "cell_type": "markdown",
   "metadata": {},
   "source": [
    "## 4)값을 저장할 리스트 만들기, img 범위 설정하기"
   ]
  },
  {
   "cell_type": "code",
   "execution_count": null,
   "metadata": {},
   "outputs": [],
   "source": [
    "CList = []\n",
    "\n",
    "while(True):\n",
    "    ret, frame = cap.read() # frame은 cap.read()\n",
    "\n",
    "    if ret == False: #더이상 프레임이 안 남았을 때 while문 종료\n",
    "        break \n",
    "\n",
    "    c = getRepColor(frame) # frame -> img(변수), frame이 c로 반환\n",
    "    CList.append(c) #CList에 c 추가\n",
    "cap.release()\n",
    "img = np.zeros((1000,len(CList),3)) # (세로, 가로, 색깔단위(RGB))"
   ]
  },
  {
   "cell_type": "markdown",
   "metadata": {},
   "source": [
    "- 빈 리스트 CList를 생성한다. 이후 프레임이 끝날 때까지 cap을 읽는 read()함수를 반복하는 while문을 작성한다. while문을 거쳐 나온 frame은 getRepColor() 함수를 거쳐 변수 c에 저장된다. c가 append()함수를 통해 빈 리스트 CList에 추가된다.\n",
    "- img의 범위는 세로는 1000, 가로는 Clist의 길이만큼 설정한다.\n",
    "- 단, total average와 random average에서는 CList.append(average(getColor(frame)))를 실행한다.\n",
    "- 단, majority color에서는 CList.append(mostColor(Colors(frame)))를 실행한다."
   ]
  },
  {
   "cell_type": "markdown",
   "metadata": {},
   "source": [
    "## 5)바코드 시각화하기"
   ]
  },
  {
   "cell_type": "code",
   "execution_count": null,
   "metadata": {},
   "outputs": [],
   "source": [
    "for i in range(len(CList)):\n",
    "    #r = CList[i][0]\n",
    "    #g = CList[i][1]\n",
    "    #b = CList[i][2]\n",
    "    img[:,i] = CList[i] #:(column) = 전체 = img[0:1000,i] = [r,g,b]\n",
    "\n",
    "b,g,r = cv2.split(img) #img파일을 b,g,r로 분리\n",
    "img2 = cv2.merge([r,g,b]) #b,r을 바꿔서 Merge\n",
    "\n",
    "img2 = img2.astype(np.uint8) #데이터 타입을 uint8로\n",
    "plt.imshow(img2)\n",
    "plt.show()"
   ]
  },
  {
   "cell_type": "markdown",
   "metadata": {},
   "source": [
    "- Clist의 길이만큼 반복되는 for 문을 만든다. 모든 프레임의 r,g,b는 img의 리스트에 각 리스트로 저장된다.\n",
    "- opencv모듈은 색을 b,g,r순으로 읽기 때문에, r,g,b 순서로 변환하는 작업이 필요하다. 우선, r,g,b가 각각의 리스트로 저장되어 있던 img를 cv2.split() 함수를 이용해 분리한다.\n",
    "- 이후 cv2.merge() 함수를 이용해 올바른 순서로 정리한다. 이 때 img2라는 변수를 사용해 새롭게 정의한다."
   ]
  },
  {
   "cell_type": "markdown",
   "metadata": {},
   "source": [
    "## 6)이미지 저장"
   ]
  },
  {
   "cell_type": "code",
   "execution_count": null,
   "metadata": {},
   "outputs": [],
   "source": [
    "imageio.imwrite(\"MovieBarcode_WAY1_[MV]10cm_pet.png\",img2)\n",
    "cv2.destroyAllWindows() #cv2.imshow #생성된 모든 윈도우를 제거"
   ]
  },
  {
   "cell_type": "markdown",
   "metadata": {},
   "source": [
    "- imageio 모듈의 imwrite()함수를 사용해 이미지 파일을 만든다.\n",
    "- 이후 생성된 윈도우를 제거한다."
   ]
  }
 ],
 "metadata": {
  "kernelspec": {
   "display_name": "Python 3",
   "language": "python",
   "name": "python3"
  },
  "language_info": {
   "name": ""
  }
 },
 "nbformat": 4,
 "nbformat_minor": 2
}
